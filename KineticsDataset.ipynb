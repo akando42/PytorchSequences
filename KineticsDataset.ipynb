{
 "cells": [
  {
   "cell_type": "code",
   "execution_count": 1,
   "metadata": {},
   "outputs": [],
   "source": [
    "import torch, torchvision"
   ]
  },
  {
   "cell_type": "code",
   "execution_count": 2,
   "metadata": {},
   "outputs": [
    {
     "data": {
      "text/plain": [
       "device(type='cpu')"
      ]
     },
     "execution_count": 2,
     "metadata": {},
     "output_type": "execute_result"
    }
   ],
   "source": [
    "device = torch.device(\"cpu\")\n",
    "device"
   ]
  },
  {
   "cell_type": "code",
   "execution_count": 5,
   "metadata": {},
   "outputs": [
    {
     "name": "stdout",
     "output_type": "stream",
     "text": [
      "  MobileNetV3.ipynb                Neural_net_Architect.ipynb\r\n",
      "EfficientNet.ipynb                 Pillow_IMAGE_Module.ipynb\r\n",
      "EfficientNetV2.ipynb               ResNetModel.ipynb\r\n",
      "EfficientNet_TorchHub_NVDIA.ipynb  \u001b[34mSampleObjectDetection\u001b[m\u001b[m/\r\n",
      "ImageNet.ipynb                     \u001b[34mTargets\u001b[m\u001b[m/\r\n",
      "LOC_synset_mapping.json            Torch_Tensor_Datatypes.ipynb\r\n",
      "Mask_Position.ipynb                sort_list_files.ipynb\r\n",
      "Mask_to_RGB.ipynb                  xo.jpg\r\n"
     ]
    }
   ],
   "source": [
    "ls"
   ]
  },
  {
   "cell_type": "code",
   "execution_count": 6,
   "metadata": {},
   "outputs": [],
   "source": [
    "mkdir Kinetics"
   ]
  },
  {
   "cell_type": "code",
   "execution_count": null,
   "metadata": {},
   "outputs": [
    {
     "name": "stdout",
     "output_type": "stream",
     "text": [
      "Downloading https://s3.amazonaws.com/kinetics/400/train/k400_train_path.txt to ./Kinetics/files/k400_train_path.txt\n"
     ]
    },
    {
     "data": {
      "application/vnd.jupyter.widget-view+json": {
       "model_id": "6acedb393554427dbe906644028aca7c",
       "version_major": 2,
       "version_minor": 0
      },
      "text/plain": [
       "  0%|          | 0/14410 [00:00<?, ?it/s]"
      ]
     },
     "metadata": {},
     "output_type": "display_data"
    },
    {
     "name": "stdout",
     "output_type": "stream",
     "text": [
      "Downloading https://s3.amazonaws.com/kinetics/400/train/part_0.tar.gz to ./Kinetics/tars/part_0.tar.gz\n",
      "Downloading https://s3.amazonaws.com/kinetics/400/train/part_31.tar.gz to ./Kinetics/tars/part_31.tar.gz\n"
     ]
    },
    {
     "data": {
      "application/vnd.jupyter.widget-view+json": {
       "model_id": "c8b9e6608be942e09ac0420c430e4e20",
       "version_major": 2,
       "version_minor": 0
      },
      "text/plain": [
       "  0%|          | 0/1586744851 [00:00<?, ?it/s]"
      ]
     },
     "metadata": {},
     "output_type": "display_data"
    },
    {
     "data": {
      "application/vnd.jupyter.widget-view+json": {
       "model_id": "8de1e6dd9e8a44cfb67c389922298773",
       "version_major": 2,
       "version_minor": 0
      },
      "text/plain": [
       "  0%|          | 0/1631315939 [00:00<?, ?it/s]"
      ]
     },
     "metadata": {},
     "output_type": "display_data"
    },
    {
     "name": "stdout",
     "output_type": "stream",
     "text": [
      "Extracting ./Kinetics/tars/part_0.tar.gz to ./Kinetics/train\n",
      "Extracting ./Kinetics/tars/part_31.tar.gz to ./Kinetics/train\n",
      "Downloading https://s3.amazonaws.com/kinetics/400/train/part_1.tar.gz to ./Kinetics/tars/part_1.tar.gz\n"
     ]
    },
    {
     "data": {
      "application/vnd.jupyter.widget-view+json": {
       "model_id": "526554618e724f2abcd0be2653528101",
       "version_major": 2,
       "version_minor": 0
      },
      "text/plain": [
       "  0%|          | 0/1622090263 [00:00<?, ?it/s]"
      ]
     },
     "metadata": {},
     "output_type": "display_data"
    },
    {
     "name": "stdout",
     "output_type": "stream",
     "text": [
      "Downloading https://s3.amazonaws.com/kinetics/400/train/part_32.tar.gz to ./Kinetics/tars/part_32.tar.gz\n"
     ]
    },
    {
     "data": {
      "application/vnd.jupyter.widget-view+json": {
       "model_id": "4968c3df38454ed9af57a6b549dc023d",
       "version_major": 2,
       "version_minor": 0
      },
      "text/plain": [
       "  0%|          | 0/1426174684 [00:00<?, ?it/s]"
      ]
     },
     "metadata": {},
     "output_type": "display_data"
    },
    {
     "name": "stdout",
     "output_type": "stream",
     "text": [
      "Extracting ./Kinetics/tars/part_32.tar.gz to ./Kinetics/train\n",
      "Downloading https://s3.amazonaws.com/kinetics/400/train/part_33.tar.gz to ./Kinetics/tars/part_33.tar.gz\n"
     ]
    },
    {
     "data": {
      "application/vnd.jupyter.widget-view+json": {
       "model_id": "f0d62a81d14c46369206f146d3e596f6",
       "version_major": 2,
       "version_minor": 0
      },
      "text/plain": [
       "  0%|          | 0/1589257059 [00:00<?, ?it/s]"
      ]
     },
     "metadata": {},
     "output_type": "display_data"
    }
   ],
   "source": [
    "imagnet_data = torchvision.datasets.Kinetics(\n",
    "    root=\"./Kinetics\",  \n",
    "    frames_per_clip=100,\n",
    "    num_classes=\"400\",\n",
    "    split=\"train\",\n",
    "    download=True,\n",
    "    num_workers=2,\n",
    "    num_download_workers=2\n",
    ")"
   ]
  },
  {
   "cell_type": "code",
   "execution_count": null,
   "metadata": {},
   "outputs": [],
   "source": []
  }
 ],
 "metadata": {
  "kernelspec": {
   "display_name": "Python 3",
   "language": "python",
   "name": "python3"
  },
  "language_info": {
   "codemirror_mode": {
    "name": "ipython",
    "version": 3
   },
   "file_extension": ".py",
   "mimetype": "text/x-python",
   "name": "python",
   "nbconvert_exporter": "python",
   "pygments_lexer": "ipython3",
   "version": "3.7.1"
  }
 },
 "nbformat": 4,
 "nbformat_minor": 2
}
