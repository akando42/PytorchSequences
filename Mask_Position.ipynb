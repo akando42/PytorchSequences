{
 "cells": [
  {
   "cell_type": "code",
   "execution_count": 147,
   "metadata": {},
   "outputs": [
    {
     "name": "stdout",
     "output_type": "stream",
     "text": [
      "FudanPed00001_mask.png  FudanPed00058_mask.png  PennPed00041_mask.png\r\n",
      "FudanPed00002_mask.png  FudanPed00059_mask.png  PennPed00042_mask.png\r\n",
      "FudanPed00003_mask.png  FudanPed00060_mask.png  PennPed00043_mask.png\r\n",
      "FudanPed00004_mask.png  FudanPed00061_mask.png  PennPed00044_mask.png\r\n",
      "FudanPed00005_mask.png  FudanPed00062_mask.png  PennPed00045_mask.png\r\n",
      "FudanPed00006_mask.png  FudanPed00063_mask.png  PennPed00046_mask.png\r\n",
      "FudanPed00007_mask.png  FudanPed00064_mask.png  PennPed00047_mask.png\r\n",
      "FudanPed00008_mask.png  FudanPed00065_mask.png  PennPed00048_mask.png\r\n",
      "FudanPed00009_mask.png  FudanPed00066_mask.png  PennPed00049_mask.png\r\n",
      "FudanPed00010_mask.png  FudanPed00067_mask.png  PennPed00050_mask.png\r\n",
      "FudanPed00011_mask.png  FudanPed00068_mask.png  PennPed00051_mask.png\r\n",
      "FudanPed00012_mask.png  FudanPed00069_mask.png  PennPed00052_mask.png\r\n",
      "FudanPed00013_mask.png  FudanPed00070_mask.png  PennPed00053_mask.png\r\n",
      "FudanPed00014_mask.png  FudanPed00071_mask.png  PennPed00054_mask.png\r\n",
      "FudanPed00015_mask.png  FudanPed00072_mask.png  PennPed00055_mask.png\r\n",
      "FudanPed00016_mask.png  FudanPed00073_mask.png  PennPed00056_mask.png\r\n",
      "FudanPed00017_mask.png  FudanPed00074_mask.png  PennPed00057_mask.png\r\n",
      "FudanPed00018_mask.png  PennPed00001_mask.png   PennPed00058_mask.png\r\n",
      "FudanPed00019_mask.png  PennPed00002_mask.png   PennPed00059_mask.png\r\n",
      "FudanPed00020_mask.png  PennPed00003_mask.png   PennPed00060_mask.png\r\n",
      "FudanPed00021_mask.png  PennPed00004_mask.png   PennPed00061_mask.png\r\n",
      "FudanPed00022_mask.png  PennPed00005_mask.png   PennPed00062_mask.png\r\n",
      "FudanPed00023_mask.png  PennPed00006_mask.png   PennPed00063_mask.png\r\n",
      "FudanPed00024_mask.png  PennPed00007_mask.png   PennPed00064_mask.png\r\n",
      "FudanPed00025_mask.png  PennPed00008_mask.png   PennPed00065_mask.png\r\n",
      "FudanPed00026_mask.png  PennPed00009_mask.png   PennPed00066_mask.png\r\n",
      "FudanPed00027_mask.png  PennPed00010_mask.png   PennPed00067_mask.png\r\n",
      "FudanPed00028_mask.png  PennPed00011_mask.png   PennPed00068_mask.png\r\n",
      "FudanPed00029_mask.png  PennPed00012_mask.png   PennPed00069_mask.png\r\n",
      "FudanPed00030_mask.png  PennPed00013_mask.png   PennPed00070_mask.png\r\n",
      "FudanPed00031_mask.png  PennPed00014_mask.png   PennPed00071_mask.png\r\n",
      "FudanPed00032_mask.png  PennPed00015_mask.png   PennPed00072_mask.png\r\n",
      "FudanPed00033_mask.png  PennPed00016_mask.png   PennPed00073_mask.png\r\n",
      "FudanPed00034_mask.png  PennPed00017_mask.png   PennPed00074_mask.png\r\n",
      "FudanPed00035_mask.png  PennPed00018_mask.png   PennPed00075_mask.png\r\n",
      "FudanPed00036_mask.png  PennPed00019_mask.png   PennPed00076_mask.png\r\n",
      "FudanPed00037_mask.png  PennPed00020_mask.png   PennPed00077_mask.png\r\n",
      "FudanPed00038_mask.png  PennPed00021_mask.png   PennPed00078_mask.png\r\n",
      "FudanPed00039_mask.png  PennPed00022_mask.png   PennPed00079_mask.png\r\n",
      "FudanPed00040_mask.png  PennPed00023_mask.png   PennPed00080_mask.png\r\n",
      "FudanPed00041_mask.png  PennPed00024_mask.png   PennPed00081_mask.png\r\n",
      "FudanPed00042_mask.png  PennPed00025_mask.png   PennPed00082_mask.png\r\n",
      "FudanPed00043_mask.png  PennPed00026_mask.png   PennPed00083_mask.png\r\n",
      "FudanPed00044_mask.png  PennPed00027_mask.png   PennPed00084_mask.png\r\n",
      "FudanPed00045_mask.png  PennPed00028_mask.png   PennPed00085_mask.png\r\n",
      "FudanPed00046_mask.png  PennPed00029_mask.png   PennPed00086_mask.png\r\n",
      "FudanPed00047_mask.png  PennPed00030_mask.png   PennPed00087_mask.png\r\n",
      "FudanPed00048_mask.png  PennPed00031_mask.png   PennPed00088_mask.png\r\n",
      "FudanPed00049_mask.png  PennPed00032_mask.png   PennPed00089_mask.png\r\n",
      "FudanPed00050_mask.png  PennPed00033_mask.png   PennPed00090_mask.png\r\n",
      "FudanPed00051_mask.png  PennPed00034_mask.png   PennPed00091_mask.png\r\n",
      "FudanPed00052_mask.png  PennPed00035_mask.png   PennPed00092_mask.png\r\n",
      "FudanPed00053_mask.png  PennPed00036_mask.png   PennPed00093_mask.png\r\n",
      "FudanPed00054_mask.png  PennPed00037_mask.png   PennPed00094_mask.png\r\n",
      "FudanPed00055_mask.png  PennPed00038_mask.png   PennPed00095_mask.png\r\n",
      "FudanPed00056_mask.png  PennPed00039_mask.png   PennPed00096_mask.png\r\n",
      "FudanPed00057_mask.png  PennPed00040_mask.png\r\n"
     ]
    }
   ],
   "source": [
    "ls"
   ]
  },
  {
   "cell_type": "code",
   "execution_count": 149,
   "metadata": {},
   "outputs": [
    {
     "data": {
      "image/png": "[encoded data removed]",
      "text/plain": [
       "<PIL.PngImagePlugin.PngImageFile image mode=P size=786x436 at 0x107C012B0>"
      ]
     },
     "execution_count": 149,
     "metadata": {},
     "output_type": "execute_result"
    }
   ],
   "source": [
    "from PIL import Image, ImageDraw\n",
    "\n",
    "mask = Image.open(\"PennPed00004_mask.png\")\n",
    "mask.putpalette([\n",
    "    0,0,0,\n",
    "    0,0,255\n",
    "]\n",
    ")\n",
    "mask"
   ]
  },
  {
   "cell_type": "code",
   "execution_count": 150,
   "metadata": {},
   "outputs": [],
   "source": [
    "import numpy as np\n",
    "\n",
    "np_mask = np.array(mask)\n",
    "ids = np.unique(np_mask)\n",
    "people_ids = ids[1:]\n",
    "\n",
    "masks = np_mask == people_ids[:, None, None]\n"
   ]
  },
  {
   "cell_type": "code",
   "execution_count": 151,
   "metadata": {},
   "outputs": [
    {
     "data": {
      "text/plain": [
       "array([[False, False, False, ..., False, False, False],\n",
       "       [False, False, False, ..., False, False, False],\n",
       "       [False, False, False, ..., False, False, False],\n",
       "       ...,\n",
       "       [False, False, False, ..., False, False, False],\n",
       "       [False, False, False, ..., False, False, False],\n",
       "       [False, False, False, ..., False, False, False]])"
      ]
     },
     "execution_count": 151,
     "metadata": {},
     "output_type": "execute_result"
    }
   ],
   "source": [
    "masks[0]"
   ]
  },
  {
   "cell_type": "code",
   "execution_count": 152,
   "metadata": {},
   "outputs": [
    {
     "name": "stdout",
     "output_type": "stream",
     "text": [
      "(array([ 60,  61,  61, ..., 409, 409, 409]), array([113, 111, 112, ..., 105, 106, 107]))\n",
      "66 60 169 409\n",
      "786 436\n"
     ]
    }
   ],
   "source": [
    "pos = np.where(masks[0])\n",
    "xmin = np.min(pos[1])\n",
    "ymin = np.min(pos[0])\n",
    "xmax = np.max(pos[1])\n",
    "ymax = np.max(pos[0])\n",
    "\n",
    "print(pos)\n",
    "print(xmin, ymin, xmax, ymax)\n",
    "print(mask.width, mask.height)"
   ]
  },
  {
   "cell_type": "code",
   "execution_count": 153,
   "metadata": {},
   "outputs": [
    {
     "data": {
      "image/png": "[encoded data removed]",
      "text/plain": [
       "<PIL.PngImagePlugin.PngImageFile image mode=P size=786x436 at 0x107C012B0>"
      ]
     },
     "execution_count": 153,
     "metadata": {},
     "output_type": "execute_result"
    }
   ],
   "source": [
    "draw = ImageDraw.Draw(mask)\n",
    "draw.rectangle([(xmin, ymin),(xmax,ymax)], outline=1)\n",
    "mask"
   ]
  }
 ],
 "metadata": {
  "kernelspec": {
   "display_name": "Python 3",
   "language": "python",
   "name": "python3"
  },
  "language_info": {
   "codemirror_mode": {
    "name": "ipython",
    "version": 3
   },
   "file_extension": ".py",
   "mimetype": "text/x-python",
   "name": "python",
   "nbconvert_exporter": "python",
   "pygments_lexer": "ipython3",
   "version": "3.7.1"
  }
 },
 "nbformat": 4,
 "nbformat_minor": 2
}
